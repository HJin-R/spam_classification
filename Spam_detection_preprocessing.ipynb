{
 "cells": [
  {
   "cell_type": "markdown",
   "id": "3eaf2579-4aff-4d1b-a587-af38dbca4c8e",
   "metadata": {},
   "source": [
    "# Preprocessing spam data"
   ]
  },
  {
   "cell_type": "code",
   "execution_count": 2,
   "id": "54cd9fff-92b6-4441-a8a7-e84931444305",
   "metadata": {},
   "outputs": [
    {
     "name": "stdout",
     "output_type": "stream",
     "text": [
      "Collecting nltk\n",
      "  Downloading nltk-3.9.1-py3-none-any.whl.metadata (2.9 kB)\n",
      "Collecting click (from nltk)\n",
      "  Downloading click-8.1.8-py3-none-any.whl.metadata (2.3 kB)\n",
      "Requirement already satisfied: joblib in c:\\users\\h\\anaconda3\\envs\\ml_env\\lib\\site-packages (from nltk) (1.4.2)\n",
      "Collecting regex>=2021.8.3 (from nltk)\n",
      "  Using cached regex-2024.11.6-cp311-cp311-win_amd64.whl.metadata (41 kB)\n",
      "Collecting tqdm (from nltk)\n",
      "  Downloading tqdm-4.67.1-py3-none-any.whl.metadata (57 kB)\n",
      "Requirement already satisfied: colorama in c:\\users\\h\\anaconda3\\envs\\ml_env\\lib\\site-packages (from click->nltk) (0.4.6)\n",
      "Downloading nltk-3.9.1-py3-none-any.whl (1.5 MB)\n",
      "   ---------------------------------------- 0.0/1.5 MB ? eta -:--:--\n",
      "   ---------------------------------------- 1.5/1.5 MB 13.2 MB/s eta 0:00:00\n",
      "Using cached regex-2024.11.6-cp311-cp311-win_amd64.whl (274 kB)\n",
      "Downloading click-8.1.8-py3-none-any.whl (98 kB)\n",
      "Downloading tqdm-4.67.1-py3-none-any.whl (78 kB)\n",
      "Installing collected packages: tqdm, regex, click, nltk\n",
      "Successfully installed click-8.1.8 nltk-3.9.1 regex-2024.11.6 tqdm-4.67.1\n"
     ]
    }
   ],
   "source": [
    "!pip install nltk"
   ]
  },
  {
   "cell_type": "code",
   "execution_count": 6,
   "id": "737cf389-f563-457b-ae87-f803f2f9c86b",
   "metadata": {},
   "outputs": [
    {
     "name": "stdout",
     "output_type": "stream",
     "text": [
      "Collecting contractions\n",
      "  Downloading contractions-0.1.73-py2.py3-none-any.whl.metadata (1.2 kB)\n",
      "Collecting textsearch>=0.0.21 (from contractions)\n",
      "  Downloading textsearch-0.0.24-py2.py3-none-any.whl.metadata (1.2 kB)\n",
      "Collecting anyascii (from textsearch>=0.0.21->contractions)\n",
      "  Downloading anyascii-0.3.2-py3-none-any.whl.metadata (1.5 kB)\n",
      "Collecting pyahocorasick (from textsearch>=0.0.21->contractions)\n",
      "  Downloading pyahocorasick-2.1.0-cp311-cp311-win_amd64.whl.metadata (13 kB)\n",
      "Downloading contractions-0.1.73-py2.py3-none-any.whl (8.7 kB)\n",
      "Downloading textsearch-0.0.24-py2.py3-none-any.whl (7.6 kB)\n",
      "Downloading anyascii-0.3.2-py3-none-any.whl (289 kB)\n",
      "Downloading pyahocorasick-2.1.0-cp311-cp311-win_amd64.whl (39 kB)\n",
      "Installing collected packages: pyahocorasick, anyascii, textsearch, contractions\n",
      "Successfully installed anyascii-0.3.2 contractions-0.1.73 pyahocorasick-2.1.0 textsearch-0.0.24\n"
     ]
    }
   ],
   "source": [
    "! pip install contractions"
   ]
  },
  {
   "cell_type": "markdown",
   "id": "48fa645f-864a-4ec2-83f8-2dc15c9ece34",
   "metadata": {},
   "source": [
    "### Imports"
   ]
  },
  {
   "cell_type": "code",
   "execution_count": 77,
   "id": "8bd08510-a18d-45ab-a6ba-406b637bceff",
   "metadata": {},
   "outputs": [],
   "source": [
    "import nltk\n",
    "from nltk.stem import PorterStemmer\n",
    "from nltk.corpus import stopwords\n",
    "from nltk.tokenize import word_tokenize\n",
    "from nltk.stem import SnowballStemmer\n",
    "from collections import Counter\n",
    "\n",
    "import re\n",
    "import numpy as np\n",
    "import pandas as pd\n",
    "import matplotlib.pyplot as plt\n",
    "from sklearn.model_selection import train_test_split\n",
    "import contractions\n",
    "from gensim.models import Word2Vec"
   ]
  },
  {
   "cell_type": "code",
   "execution_count": 4,
   "id": "fdda963e-ca08-4a08-b079-4c7851bca179",
   "metadata": {},
   "outputs": [
    {
     "name": "stderr",
     "output_type": "stream",
     "text": [
      "[nltk_data] Downloading package punkt to\n",
      "[nltk_data]     C:\\Users\\H\\AppData\\Roaming\\nltk_data...\n",
      "[nltk_data]   Unzipping tokenizers\\punkt.zip.\n",
      "[nltk_data] Downloading package stopwords to\n",
      "[nltk_data]     C:\\Users\\H\\AppData\\Roaming\\nltk_data...\n",
      "[nltk_data]   Unzipping corpora\\stopwords.zip.\n",
      "[nltk_data] Downloading package punkt_tab to\n",
      "[nltk_data]     C:\\Users\\H\\AppData\\Roaming\\nltk_data...\n",
      "[nltk_data]   Unzipping tokenizers\\punkt_tab.zip.\n"
     ]
    },
    {
     "data": {
      "text/plain": [
       "True"
      ]
     },
     "execution_count": 4,
     "metadata": {},
     "output_type": "execute_result"
    }
   ],
   "source": [
    "# # Download nltk data -- Need only once\n",
    "nltk.download('punkt')\n",
    "nltk.download('stopwords')\n",
    "nltk.download('punkt_tab')"
   ]
  },
  {
   "cell_type": "code",
   "execution_count": 33,
   "id": "06f6b750-b0c8-4cae-a956-2a3f4f052eb6",
   "metadata": {},
   "outputs": [],
   "source": [
    "# Sample data\n",
    "RAW_DATA= 'spam_detection.csv'\n",
    "MAX_VOCAB = 20000\n",
    "RANDOM_STATE = 777\n",
    "\n",
    "TRAIN = 'train.csv'\n",
    "VAL = 'val.csv'\n",
    "TEST = 'test.csv'\n",
    "\n",
    "LABELS = ['Non-Spam', 'SPAM']\n",
    "COLOURS = ['#22a6b3', '#eb4d4b']\n",
    "\n",
    "X_TRAIN = 'x_train.npy' \n",
    "Y_TRAIN = 'y_train.npy'\n",
    "X_VAL = 'x_val.npy'\n",
    "Y_VAL = 'y_val.npy'\n",
    "X_TEST = 'x_test.npy'\n",
    "Y_TEST = 'y_test.npy'"
   ]
  },
  {
   "cell_type": "markdown",
   "id": "68c4f4d9-a0c5-48b1-bd5f-b57abb5ed594",
   "metadata": {},
   "source": [
    "### Core funtions "
   ]
  },
  {
   "cell_type": "code",
   "execution_count": 41,
   "id": "1747dd08-1b4b-4f69-9fe6-e9a13dd33ae0",
   "metadata": {},
   "outputs": [],
   "source": [
    "def clean_text(t):\n",
    "  txt = t.lower()\n",
    "  txt = contractions.fix(txt) # handle contractions\n",
    "  # Removals\n",
    "  txt = re.sub(r'http\\S+|www\\S+|https\\S+', '', txt, flags=re.MULTILINE ) # URLS\n",
    "  txt = re.sub(r'[^\\w\\s]', '', txt) # punctuation\n",
    "  txt = re.sub(r'\\d+', '', txt) # numbers\n",
    "  # tokenise\n",
    "  txt = word_tokenize(txt)\n",
    "  stop_words = set(stopwords.words('english'))\n",
    "  txt = [word for word in txt if not word in stop_words]\n",
    "  return txt\n",
    "\n",
    "\n",
    "#Pie chart\n",
    "def display_pie_chart(counts):\n",
    "    plt.figure(figsize=(3, 3), dpi=180)\n",
    "    plt.pie(counts,\n",
    "            labels=LABELS,\n",
    "            colors=COLOURS,\n",
    "            textprops={'fontsize': 7},\n",
    "            startangle=90,\n",
    "            autopct='%1.0f%%',\n",
    "            pctdistance=0.8,\n",
    "            explode=[0.04, 0.04])\n",
    "    centre_circle = plt.Circle((0, 0), radius=0.6, fc='white')  #coordinates, radius, centre colour\n",
    "    plt.gca().add_artist(centre_circle) # get current axis and add new circle to it\n",
    "    \n",
    "    plt.show()\n",
    "\n",
    "\n",
    "def get_document_vector(tokens, model, vec_size=100):\n",
    "  vectors = [vec_model.wv[token] for token in tokens if token in vec_model.wv]\n",
    "  return np.mean(vectors, axis=0) if vectors else np.zeros(vec_size)\n",
    "\n"
   ]
  },
  {
   "cell_type": "markdown",
   "id": "839930e6-57c0-4ddd-85a7-3f8accc1043b",
   "metadata": {},
   "source": [
    "## Load data"
   ]
  },
  {
   "cell_type": "code",
   "execution_count": 27,
   "id": "e89baf9a-3543-487a-9702-7c990bf91417",
   "metadata": {},
   "outputs": [
    {
     "name": "stdout",
     "output_type": "stream",
     "text": [
      "<class 'pandas.core.frame.DataFrame'>\n",
      "RangeIndex: 5572 entries, 0 to 5571\n",
      "Data columns (total 5 columns):\n",
      " #   Column      Non-Null Count  Dtype \n",
      "---  ------      --------------  ----- \n",
      " 0   v1          5572 non-null   object\n",
      " 1   v2          5572 non-null   object\n",
      " 2   Unnamed: 2  50 non-null     object\n",
      " 3   Unnamed: 3  12 non-null     object\n",
      " 4   Unnamed: 4  6 non-null      object\n",
      "dtypes: object(5)\n",
      "memory usage: 217.8+ KB\n"
     ]
    }
   ],
   "source": [
    "data  = pd.read_csv(RAW_DATA, encoding='ISO-8859-1')\n",
    "data.info()"
   ]
  },
  {
   "cell_type": "code",
   "execution_count": 28,
   "id": "2fdd912c-855a-41cc-9eeb-d1bc2fb23ca0",
   "metadata": {},
   "outputs": [
    {
     "data": {
      "text/html": [
       "<div>\n",
       "<style scoped>\n",
       "    .dataframe tbody tr th:only-of-type {\n",
       "        vertical-align: middle;\n",
       "    }\n",
       "\n",
       "    .dataframe tbody tr th {\n",
       "        vertical-align: top;\n",
       "    }\n",
       "\n",
       "    .dataframe thead th {\n",
       "        text-align: right;\n",
       "    }\n",
       "</style>\n",
       "<table border=\"1\" class=\"dataframe\">\n",
       "  <thead>\n",
       "    <tr style=\"text-align: right;\">\n",
       "      <th></th>\n",
       "      <th>temp</th>\n",
       "      <th>text</th>\n",
       "      <th>label</th>\n",
       "    </tr>\n",
       "  </thead>\n",
       "  <tbody>\n",
       "    <tr>\n",
       "      <th>0</th>\n",
       "      <td>ham</td>\n",
       "      <td>Go until jurong point, crazy.. Available only ...</td>\n",
       "      <td>0</td>\n",
       "    </tr>\n",
       "    <tr>\n",
       "      <th>1</th>\n",
       "      <td>ham</td>\n",
       "      <td>Ok lar... Joking wif u oni...</td>\n",
       "      <td>0</td>\n",
       "    </tr>\n",
       "    <tr>\n",
       "      <th>2</th>\n",
       "      <td>spam</td>\n",
       "      <td>Free entry in 2 a wkly comp to win FA Cup fina...</td>\n",
       "      <td>1</td>\n",
       "    </tr>\n",
       "    <tr>\n",
       "      <th>3</th>\n",
       "      <td>ham</td>\n",
       "      <td>U dun say so early hor... U c already then say...</td>\n",
       "      <td>0</td>\n",
       "    </tr>\n",
       "    <tr>\n",
       "      <th>4</th>\n",
       "      <td>ham</td>\n",
       "      <td>Nah I don't think he goes to usf, he lives aro...</td>\n",
       "      <td>0</td>\n",
       "    </tr>\n",
       "  </tbody>\n",
       "</table>\n",
       "</div>"
      ],
      "text/plain": [
       "   temp                                               text  label\n",
       "0   ham  Go until jurong point, crazy.. Available only ...      0\n",
       "1   ham                      Ok lar... Joking wif u oni...      0\n",
       "2  spam  Free entry in 2 a wkly comp to win FA Cup fina...      1\n",
       "3   ham  U dun say so early hor... U c already then say...      0\n",
       "4   ham  Nah I don't think he goes to usf, he lives aro...      0"
      ]
     },
     "execution_count": 28,
     "metadata": {},
     "output_type": "execute_result"
    }
   ],
   "source": [
    "data = data.drop(['Unnamed: 2', 'Unnamed: 3', 'Unnamed: 4'], axis=1)\n",
    "data.columns = ['temp', 'text']\n",
    "data['label'] = data['temp'].map({'ham': 0, 'spam': 1})\n",
    "data = data.astype({'label':'int16'})\n",
    "data = data.astype({'text':'string'})\n",
    "data.head()"
   ]
  },
  {
   "cell_type": "markdown",
   "id": "9bd53aee-5f07-40c8-9b10-82b0b090cb26",
   "metadata": {},
   "source": [
    "### Explore data"
   ]
  },
  {
   "cell_type": "code",
   "execution_count": 55,
   "id": "6e9bb5b3-d8d6-4a1e-931e-0e4334178416",
   "metadata": {},
   "outputs": [
    {
     "data": {
      "image/png": "[encoded data removed]",
      "text/plain": [
       "<Figure size 540x540 with 1 Axes>"
      ]
     },
     "metadata": {},
     "output_type": "display_data"
    }
   ],
   "source": [
    "df = data\n",
    "ham_count = (df['label'] == 0).sum()\n",
    "spam_count = (df['label'] == 1).sum()\n",
    "size = [ham_count, spam_count ]\n",
    "\n",
    "display_pie_chart(counts=size)"
   ]
  },
  {
   "cell_type": "markdown",
   "id": "66bd4220-6b5f-4771-8844-37a3805c792a",
   "metadata": {},
   "source": [
    "### Balance data labels"
   ]
  },
  {
   "cell_type": "code",
   "execution_count": 67,
   "id": "f113f857-9eaf-48d2-8e8b-327b27a227da",
   "metadata": {},
   "outputs": [],
   "source": [
    "# random shuffle \n",
    "df = df.sample(frac=1, random_state=RANDOM_STATE).reset_index(drop=True)"
   ]
  },
  {
   "cell_type": "code",
   "execution_count": 68,
   "id": "30ea4302-d1db-4d6a-85d1-bcc682c664ed",
   "metadata": {},
   "outputs": [
    {
     "name": "stdout",
     "output_type": "stream",
     "text": [
      "<class 'pandas.core.frame.DataFrame'>\n",
      "Index: 2413 entries, 4253 to 1547\n",
      "Data columns (total 3 columns):\n",
      " #   Column  Non-Null Count  Dtype \n",
      "---  ------  --------------  ----- \n",
      " 0   temp    2413 non-null   object\n",
      " 1   text    2413 non-null   string\n",
      " 2   label   2413 non-null   int16 \n",
      "dtypes: int16(1), object(1), string(1)\n",
      "memory usage: 61.3+ KB\n"
     ]
    }
   ],
   "source": [
    "# remove some non-spam to balance\n",
    "majority_df = df[df['label'] == 0]\n",
    "minority_df = df[df['label'] == 1]\n",
    "remove = int(len(majority_df) * 0.5) # remove 50% of ham\n",
    "downsampled_df = majority_df.sample(n=(len(majority_df) - remove), random_state=RANDOM_STATE)\n",
    "downsampled_df.info()"
   ]
  },
  {
   "cell_type": "code",
   "execution_count": 69,
   "id": "526dbc3c-512b-4e89-98e0-0268e37cd802",
   "metadata": {},
   "outputs": [
    {
     "name": "stdout",
     "output_type": "stream",
     "text": [
      "<class 'pandas.core.frame.DataFrame'>\n",
      "Index: 3160 entries, 4253 to 5567\n",
      "Data columns (total 3 columns):\n",
      " #   Column  Non-Null Count  Dtype \n",
      "---  ------  --------------  ----- \n",
      " 0   temp    3160 non-null   object\n",
      " 1   text    3160 non-null   string\n",
      " 2   label   3160 non-null   int16 \n",
      "dtypes: int16(1), object(1), string(1)\n",
      "memory usage: 80.2+ KB\n"
     ]
    }
   ],
   "source": [
    "balanced_df = pd.concat([downsampled_df, minority_df])\n",
    "balanced_df.info()"
   ]
  },
  {
   "cell_type": "code",
   "execution_count": 70,
   "id": "5673c628-bf42-4b62-9408-3261f245b7bb",
   "metadata": {},
   "outputs": [
    {
     "data": {
      "image/png": "[encoded data removed]",
      "text/plain": [
       "<Figure size 540x540 with 1 Axes>"
      ]
     },
     "metadata": {},
     "output_type": "display_data"
    }
   ],
   "source": [
    "ham_count = (balanced_df['label'] == 0).sum()\n",
    "spam_count = (balanced_df['label'] == 1).sum()\n",
    "size = [ham_count, spam_count ]\n",
    "display_pie_chart(counts=size)"
   ]
  },
  {
   "cell_type": "markdown",
   "id": "631c00e2-b8d5-4c9b-90be-0981211b3d21",
   "metadata": {},
   "source": [
    "### Tokenise texts"
   ]
  },
  {
   "cell_type": "code",
   "execution_count": 71,
   "id": "fa68d2de-9592-467d-a18d-6ea2788d3123",
   "metadata": {},
   "outputs": [
    {
     "name": "stdout",
     "output_type": "stream",
     "text": [
      "CPU times: total: 1.19 s\n",
      "Wall time: 1.22 s\n"
     ]
    },
    {
     "data": {
      "text/html": [
       "<div>\n",
       "<style scoped>\n",
       "    .dataframe tbody tr th:only-of-type {\n",
       "        vertical-align: middle;\n",
       "    }\n",
       "\n",
       "    .dataframe tbody tr th {\n",
       "        vertical-align: top;\n",
       "    }\n",
       "\n",
       "    .dataframe thead th {\n",
       "        text-align: right;\n",
       "    }\n",
       "</style>\n",
       "<table border=\"1\" class=\"dataframe\">\n",
       "  <thead>\n",
       "    <tr style=\"text-align: right;\">\n",
       "      <th></th>\n",
       "      <th>temp</th>\n",
       "      <th>text</th>\n",
       "      <th>label</th>\n",
       "      <th>tokens</th>\n",
       "    </tr>\n",
       "  </thead>\n",
       "  <tbody>\n",
       "    <tr>\n",
       "      <th>4253</th>\n",
       "      <td>ham</td>\n",
       "      <td>\\HEY HEY WERETHE MONKEESPEOPLE SAY WE MONKEYAR...</td>\n",
       "      <td>0</td>\n",
       "      <td>[hey, hey, werethe, monkeespeople, say, monkey...</td>\n",
       "    </tr>\n",
       "    <tr>\n",
       "      <th>1181</th>\n",
       "      <td>ham</td>\n",
       "      <td>Sorry about that this is my mates phone and i ...</td>\n",
       "      <td>0</td>\n",
       "      <td>[sorry, mates, phone, write, love, kate]</td>\n",
       "    </tr>\n",
       "    <tr>\n",
       "      <th>1691</th>\n",
       "      <td>ham</td>\n",
       "      <td>U can call me now...</td>\n",
       "      <td>0</td>\n",
       "      <td>[call]</td>\n",
       "    </tr>\n",
       "    <tr>\n",
       "      <th>4146</th>\n",
       "      <td>ham</td>\n",
       "      <td>Hows the champ just leaving glasgow!</td>\n",
       "      <td>0</td>\n",
       "      <td>[champ, leaving, glasgow]</td>\n",
       "    </tr>\n",
       "    <tr>\n",
       "      <th>4525</th>\n",
       "      <td>ham</td>\n",
       "      <td>Hi, can i please get a  &amp;lt;#&amp;gt;  dollar loan...</td>\n",
       "      <td>0</td>\n",
       "      <td>[hi, please, get, ltgt, dollar, loan, ill, pay...</td>\n",
       "    </tr>\n",
       "  </tbody>\n",
       "</table>\n",
       "</div>"
      ],
      "text/plain": [
       "     temp                                               text  label  \\\n",
       "4253  ham  \\HEY HEY WERETHE MONKEESPEOPLE SAY WE MONKEYAR...      0   \n",
       "1181  ham  Sorry about that this is my mates phone and i ...      0   \n",
       "1691  ham                               U can call me now...      0   \n",
       "4146  ham               Hows the champ just leaving glasgow!      0   \n",
       "4525  ham  Hi, can i please get a  &lt;#&gt;  dollar loan...      0   \n",
       "\n",
       "                                                 tokens  \n",
       "4253  [hey, hey, werethe, monkeespeople, say, monkey...  \n",
       "1181           [sorry, mates, phone, write, love, kate]  \n",
       "1691                                             [call]  \n",
       "4146                          [champ, leaving, glasgow]  \n",
       "4525  [hi, please, get, ltgt, dollar, loan, ill, pay...  "
      ]
     },
     "execution_count": 71,
     "metadata": {},
     "output_type": "execute_result"
    }
   ],
   "source": [
    "%%time\n",
    "# make a token list by cleaning and stemming \n",
    "balanced_df['tokens']= balanced_df['text'].apply(clean_text)\n",
    "balanced_df.head()"
   ]
  },
  {
   "cell_type": "code",
   "execution_count": 72,
   "id": "e27031ad-82a9-4162-a231-9ff509972e24",
   "metadata": {},
   "outputs": [],
   "source": [
    "balanced_df.to_csv('spam_cleaned.csv')"
   ]
  },
  {
   "cell_type": "markdown",
   "id": "85e84d54-3fdb-4829-a19d-b316f389c1c2",
   "metadata": {},
   "source": [
    "### Split data"
   ]
  },
  {
   "cell_type": "code",
   "execution_count": 73,
   "id": "dbe5ff9e-7321-4701-a275-1e57372d8501",
   "metadata": {},
   "outputs": [
    {
     "name": "stdout",
     "output_type": "stream",
     "text": [
      "x_train shape: (2528, 2), val shape: (316, 2) test shape: (316, 2)\n"
     ]
    }
   ],
   "source": [
    "# Split selecte columns\n",
    "train, val_test = train_test_split(balanced_df[['label', 'tokens']], test_size=0.2, random_state=RANDOM_STATE)\n",
    "val, test = train_test_split(val_test, test_size=0.5, random_state=RANDOM_STATE)\n",
    "print(f'x_train shape: {train.shape}, val shape: {val.shape} test shape: {test.shape}')"
   ]
  },
  {
   "cell_type": "code",
   "execution_count": 74,
   "id": "f720e2e2-e4de-430e-9049-787358b6c9a7",
   "metadata": {},
   "outputs": [
    {
     "data": {
      "text/html": [
       "<div>\n",
       "<style scoped>\n",
       "    .dataframe tbody tr th:only-of-type {\n",
       "        vertical-align: middle;\n",
       "    }\n",
       "\n",
       "    .dataframe tbody tr th {\n",
       "        vertical-align: top;\n",
       "    }\n",
       "\n",
       "    .dataframe thead th {\n",
       "        text-align: right;\n",
       "    }\n",
       "</style>\n",
       "<table border=\"1\" class=\"dataframe\">\n",
       "  <thead>\n",
       "    <tr style=\"text-align: right;\">\n",
       "      <th></th>\n",
       "      <th>label</th>\n",
       "      <th>tokens</th>\n",
       "    </tr>\n",
       "  </thead>\n",
       "  <tbody>\n",
       "    <tr>\n",
       "      <th>2418</th>\n",
       "      <td>0</td>\n",
       "      <td>[time, want, come]</td>\n",
       "    </tr>\n",
       "    <tr>\n",
       "      <th>3136</th>\n",
       "      <td>1</td>\n",
       "      <td>[join, uks, horniest, dogging, service, sex, n...</td>\n",
       "    </tr>\n",
       "    <tr>\n",
       "      <th>4769</th>\n",
       "      <td>0</td>\n",
       "      <td>[ok, thanx]</td>\n",
       "    </tr>\n",
       "    <tr>\n",
       "      <th>2991</th>\n",
       "      <td>1</td>\n",
       "      <td>[believe, true, incredible, txts, reply, g, le...</td>\n",
       "    </tr>\n",
       "    <tr>\n",
       "      <th>1059</th>\n",
       "      <td>0</td>\n",
       "      <td>[yup, next, stop]</td>\n",
       "    </tr>\n",
       "  </tbody>\n",
       "</table>\n",
       "</div>"
      ],
      "text/plain": [
       "      label                                             tokens\n",
       "2418      0                                 [time, want, come]\n",
       "3136      1  [join, uks, horniest, dogging, service, sex, n...\n",
       "4769      0                                        [ok, thanx]\n",
       "2991      1  [believe, true, incredible, txts, reply, g, le...\n",
       "1059      0                                  [yup, next, stop]"
      ]
     },
     "execution_count": 74,
     "metadata": {},
     "output_type": "execute_result"
    }
   ],
   "source": [
    "train.head()"
   ]
  },
  {
   "cell_type": "markdown",
   "id": "164c0315-b996-4e9a-b0e3-7af4725740b9",
   "metadata": {},
   "source": [
    "## Make word vector\n",
    "using the training set only"
   ]
  },
  {
   "cell_type": "code",
   "execution_count": 75,
   "id": "49b407b8-b7cd-4338-8a58-3eda44fce420",
   "metadata": {},
   "outputs": [
    {
     "name": "stdout",
     "output_type": "stream",
     "text": [
      "all train tokens = 2528, val tokens = 316, test tokens = 316\n"
     ]
    }
   ],
   "source": [
    "# need all tokens from each set\n",
    "train_tokens  = train['tokens'].tolist() # use this only for word2vec\n",
    "val_tokens = val['tokens'].tolist()\n",
    "test_tokens = test['tokens'].tolist()\n",
    "print(f'all train tokens = {len(train_tokens)}, val tokens = {len(val_tokens)}, test tokens = {len(test_tokens)}')"
   ]
  },
  {
   "cell_type": "code",
   "execution_count": 79,
   "id": "29aa6636-99c2-4355-8b8d-111e8146651c",
   "metadata": {},
   "outputs": [
    {
     "name": "stdout",
     "output_type": "stream",
     "text": [
      "CPU times: total: 1.78 s\n",
      "Wall time: 918 ms\n"
     ]
    }
   ],
   "source": [
    "%%time\n",
    "# build word2vec vectoriser\n",
    "vec_model = Word2Vec(sentences=train_tokens,\n",
    "                    vector_size=100,\n",
    "                    window=5,# distance from\n",
    "                    min_count=2, # frequency of token\n",
    "                    workers=4, # cpu nr\n",
    "                    sg=1,\n",
    "                    epochs=20,\n",
    "                    seed=RANDOM_STATE) #skip gram for sentiment\n"
   ]
  },
  {
   "cell_type": "code",
   "execution_count": 80,
   "id": "c30dc8b8-6317-478b-b7ea-c7d185e5a290",
   "metadata": {},
   "outputs": [],
   "source": [
    "# save the w2v model\n",
    "vec_model.save('spam_filter_word2vec.model')"
   ]
  },
  {
   "cell_type": "code",
   "execution_count": 81,
   "id": "9e12fd40-25c3-4f46-a3da-d16d43c85d96",
   "metadata": {},
   "outputs": [
    {
     "name": "stdout",
     "output_type": "stream",
     "text": [
      "CPU times: total: 125 ms\n",
      "Wall time: 121 ms\n"
     ]
    }
   ],
   "source": [
    "%%time\n",
    "x_train = np.vstack([get_document_vector(tokens, vec_model) for tokens in train_tokens])\n",
    "x_val = np.vstack([get_document_vector(tokens, vec_model) for tokens in val_tokens])\n",
    "x_test = np.vstack([get_document_vector(tokens, vec_model) for tokens in test_tokens])"
   ]
  },
  {
   "cell_type": "code",
   "execution_count": 82,
   "id": "ecdb4468-3d7d-40e8-aca2-a4fc5e064187",
   "metadata": {},
   "outputs": [],
   "source": [
    "y_train = train['label']\n",
    "y_val = val['label']\n",
    "y_test = test['label']"
   ]
  },
  {
   "cell_type": "code",
   "execution_count": 83,
   "id": "71a7c247-2f0b-4e21-a437-8a879623b864",
   "metadata": {},
   "outputs": [
    {
     "name": "stdout",
     "output_type": "stream",
     "text": [
      "x_train = 2528, y_train = 2528\n",
      "x_val = 316, y_val = 316\n",
      "x_test = 316, y_test = 316\n"
     ]
    }
   ],
   "source": [
    "print(f'x_train = {len(x_train)}, y_train = {len(y_train)}')\n",
    "print(f'x_val = {len(x_val)}, y_val = {len(y_val)}')\n",
    "print(f'x_test = {len(x_test)}, y_test = {len(y_test)}')"
   ]
  },
  {
   "cell_type": "code",
   "execution_count": 84,
   "id": "2e66a328-072f-4c94-afa4-6ffb7a38d446",
   "metadata": {},
   "outputs": [],
   "source": [
    "# store all files into numpy files for training\n",
    "np.save(X_TRAIN, x_train)\n",
    "np.save(Y_TRAIN, y_train)\n",
    "np.save(X_VAL, x_val)\n",
    "np.save(Y_VAL, y_val)\n",
    "np.save(X_TEST, x_test)\n",
    "np.save(Y_TEST, y_test)"
   ]
  },
  {
   "cell_type": "code",
   "execution_count": null,
   "id": "75c0b372-7ef0-4a23-9a90-e9df4df5a1a3",
   "metadata": {},
   "outputs": [],
   "source": []
  },
  {
   "cell_type": "code",
   "execution_count": null,
   "id": "9013c4e1-6c7a-4347-9eff-19c7e525f17c",
   "metadata": {},
   "outputs": [],
   "source": []
  }
 ],
 "metadata": {
  "kernelspec": {
   "display_name": "Python 3 (ipykernel)",
   "language": "python",
   "name": "python3"
  },
  "language_info": {
   "codemirror_mode": {
    "name": "ipython",
    "version": 3
   },
   "file_extension": ".py",
   "mimetype": "text/x-python",
   "name": "python",
   "nbconvert_exporter": "python",
   "pygments_lexer": "ipython3",
   "version": "3.11.11"
  }
 },
 "nbformat": 4,
 "nbformat_minor": 5
}
